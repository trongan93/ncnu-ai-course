{
 "cells": [
  {
   "cell_type": "markdown",
   "metadata": {},
   "source": [
    "<h2>Perceptron implementation</h2>\n",
    "by Vip Lab 116 - EE Dept. NCNU TW"
   ]
  },
  {
   "cell_type": "markdown",
   "metadata": {},
   "source": [
    "numpy lets us create vectors, and gives us both linear algebra functions and python list-like methods to use with it. We access its functions by calling them on np."
   ]
  },
  {
   "cell_type": "code",
   "execution_count": 1,
   "metadata": {},
   "outputs": [],
   "source": [
    "import numpy as np"
   ]
  },
  {
   "cell_type": "markdown",
   "metadata": {},
   "source": [
    "Here, we’re creating a new class Perceptron. This will, among other things, allow us to maintain state in order to use our perceptron after it has learned and assigned values to its weights.\n",
    "1. __init__ function <br/>\n",
    "The <b>no_of_inputs</b> is used to determine how many weights we need to learn. <br/>\n",
    "The <b>threshold</b>, is the number of epochs we’ll allow our learning algorithm to iterate through before ending, and it’s defaulted to 100. <br/>\n",
    "The <b>learning_rate</b> is used to determine the magnitude of change for our weights during each step through our training data, and is defaulted to 0.01. <br/>\n",
    "Initialize a <b>weight</b> vector with an n-number of 0’s. <br/>\n",
    "\n",
    "2. __predict__ method <br/>\n",
    "f(x) = 1 if w · x + b > 0 : 0 otherwise <br/>\n",
    "dot product function: np.dot(a, b) == a · b <br/>\n",
    "f the summation from above is greater than 0, we store 1 in the variable activation, otherwise, activation = 0, then we return that value.<br/>\n",
    "\n",
    "3. __train__ method: which takes two arguments: training_inputs and labels <br/>\n",
    "The <b>labels</b> is expected to be a numpy array of expected output values for each of the corresponding inputs in the <b>training_inputs</b> list.<br/>\n",
    "\n",
    "\n"
   ]
  },
  {
   "cell_type": "code",
   "execution_count": 2,
   "metadata": {},
   "outputs": [],
   "source": [
    "class Perceptron(object):\n",
    "    def __init__(self, no_of_inputs, threshold=100, learning_rate=0.01):\n",
    "        self.threshold = threshold\n",
    "        self.learning_rate = learning_rate\n",
    "        self.weights = np.zeros(no_of_inputs + 1)\n",
    "        \n",
    "    def predict(self, inputs):\n",
    "        summation = np.dot(inputs, self.weights[1:]) + self.weights[0]\n",
    "        if summation > 0:\n",
    "          activation = 1\n",
    "        else:\n",
    "          activation = 0            \n",
    "        return activation\n",
    "    \n",
    "    def train(self, training_inputs, labels):\n",
    "        for _ in range(self.threshold):\n",
    "            for inputs, label in zip(training_inputs, labels):\n",
    "                prediction = self.predict(inputs)\n",
    "                self.weights[1:] += self.learning_rate * (label - prediction) * inputs\n",
    "                self.weights[0] += self.learning_rate * (label - prediction)"
   ]
  }
 ],
 "metadata": {
  "kernelspec": {
   "display_name": "tf-gpu",
   "language": "python",
   "name": "tf-gpu"
  },
  "language_info": {
   "codemirror_mode": {
    "name": "ipython",
    "version": 3
   },
   "file_extension": ".py",
   "mimetype": "text/x-python",
   "name": "python",
   "nbconvert_exporter": "python",
   "pygments_lexer": "ipython3",
   "version": "3.7.7"
  }
 },
 "nbformat": 4,
 "nbformat_minor": 4
}
