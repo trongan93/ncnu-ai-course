{
 "cells": [
  {
   "cell_type": "markdown",
   "metadata": {},
   "source": [
    "Created by <b>Trong-An Bui</b> <br/>\n",
    "Advisor: <b>Prof. Pei-June Lee</b>  <br/>\n",
    "<b>Vip Lab - 116 Building 3, College of Science and Technology, National Chi Nan University</b> <br/> \n",
    "Sucessfull test with Enviroment viplab-gpu at EE AI Server 511 <br/> \n",
    "May 24th 2020"
   ]
  },
  {
   "cell_type": "code",
   "execution_count": 1,
   "metadata": {},
   "outputs": [],
   "source": [
    "import numpy as np\n",
    "from tensorflow import keras\n",
    "from tensorflow.keras import layers"
   ]
  },
  {
   "cell_type": "code",
   "execution_count": 2,
   "metadata": {},
   "outputs": [
    {
     "name": "stdout",
     "output_type": "stream",
     "text": [
      "x_train shape: (60000, 28, 28, 1)\n",
      "60000 train samples\n",
      "10000 test samples\n"
     ]
    }
   ],
   "source": [
    "# Model / data parameters\n",
    "num_classes = 10\n",
    "input_shape = (28, 28, 1)\n",
    "\n",
    "# the data, split between train and test sets\n",
    "(x_train, y_train), (x_test, y_test) = keras.datasets.mnist.load_data()\n",
    "\n",
    "# Scale images to the [0, 1] range\n",
    "x_train = x_train.astype(\"float32\") / 255\n",
    "x_test = x_test.astype(\"float32\") / 255\n",
    "# Make sure images have shape (28, 28, 1)\n",
    "x_train = np.expand_dims(x_train, -1)\n",
    "x_test = np.expand_dims(x_test, -1)\n",
    "print(\"x_train shape:\", x_train.shape)\n",
    "print(x_train.shape[0], \"train samples\")\n",
    "print(x_test.shape[0], \"test samples\")\n",
    "\n",
    "\n",
    "# convert class vectors to binary class matrices\n",
    "y_train = keras.utils.to_categorical(y_train, num_classes)\n",
    "y_test = keras.utils.to_categorical(y_test, num_classes)"
   ]
  },
  {
   "cell_type": "code",
   "execution_count": 3,
   "metadata": {},
   "outputs": [],
   "source": [
    "import tensorflow as tf\n",
    "physical_devices = tf.config.experimental.list_physical_devices('GPU') \n",
    "for physical_device in physical_devices: \n",
    "    tf.config.experimental.set_memory_growth(physical_device, True)"
   ]
  },
  {
   "cell_type": "code",
   "execution_count": 4,
   "metadata": {},
   "outputs": [
    {
     "name": "stdout",
     "output_type": "stream",
     "text": [
      "Model: \"sequential\"\n",
      "_________________________________________________________________\n",
      "Layer (type)                 Output Shape              Param #   \n",
      "=================================================================\n",
      "conv2d (Conv2D)              (None, 26, 26, 32)        320       \n",
      "_________________________________________________________________\n",
      "max_pooling2d (MaxPooling2D) (None, 13, 13, 32)        0         \n",
      "_________________________________________________________________\n",
      "conv2d_1 (Conv2D)            (None, 11, 11, 64)        18496     \n",
      "_________________________________________________________________\n",
      "max_pooling2d_1 (MaxPooling2 (None, 5, 5, 64)          0         \n",
      "_________________________________________________________________\n",
      "flatten (Flatten)            (None, 1600)              0         \n",
      "_________________________________________________________________\n",
      "dropout (Dropout)            (None, 1600)              0         \n",
      "_________________________________________________________________\n",
      "dense (Dense)                (None, 10)                16010     \n",
      "=================================================================\n",
      "Total params: 34,826\n",
      "Trainable params: 34,826\n",
      "Non-trainable params: 0\n",
      "_________________________________________________________________\n"
     ]
    }
   ],
   "source": [
    "model = keras.Sequential(\n",
    "    [\n",
    "        keras.Input(shape=input_shape),\n",
    "        layers.Conv2D(32, kernel_size=(3, 3), activation=\"relu\"),\n",
    "        layers.MaxPooling2D(pool_size=(2, 2)),\n",
    "        layers.Conv2D(64, kernel_size=(3, 3), activation=\"relu\"),\n",
    "        layers.MaxPooling2D(pool_size=(2, 2)),\n",
    "        layers.Flatten(),\n",
    "        layers.Dropout(0.5),\n",
    "        layers.Dense(num_classes, activation=\"softmax\"),\n",
    "    ]\n",
    ")\n",
    "\n",
    "model.summary()"
   ]
  },
  {
   "cell_type": "code",
   "execution_count": 5,
   "metadata": {},
   "outputs": [
    {
     "name": "stdout",
     "output_type": "stream",
     "text": [
      "Train on 54000 samples, validate on 6000 samples\n",
      "Epoch 1/50\n",
      "54000/54000 [==============================] - 6s 105us/sample - loss: 0.3660 - accuracy: 0.8902 - val_loss: 0.0839 - val_accuracy: 0.9770\n",
      "Epoch 2/50\n",
      "54000/54000 [==============================] - 3s 58us/sample - loss: 0.1093 - accuracy: 0.9669 - val_loss: 0.0561 - val_accuracy: 0.9855\n",
      "Epoch 3/50\n",
      "54000/54000 [==============================] - 3s 55us/sample - loss: 0.0845 - accuracy: 0.9740 - val_loss: 0.0490 - val_accuracy: 0.9878\n",
      "Epoch 4/50\n",
      "54000/54000 [==============================] - 3s 58us/sample - loss: 0.0713 - accuracy: 0.9782 - val_loss: 0.0424 - val_accuracy: 0.9897\n",
      "Epoch 5/50\n",
      "54000/54000 [==============================] - 3s 57us/sample - loss: 0.0614 - accuracy: 0.9810 - val_loss: 0.0381 - val_accuracy: 0.9893\n",
      "Epoch 6/50\n",
      "54000/54000 [==============================] - 3s 57us/sample - loss: 0.0591 - accuracy: 0.9817 - val_loss: 0.0387 - val_accuracy: 0.9887\n",
      "Epoch 7/50\n",
      "54000/54000 [==============================] - 3s 57us/sample - loss: 0.0514 - accuracy: 0.9839 - val_loss: 0.0333 - val_accuracy: 0.9902\n",
      "Epoch 8/50\n",
      "54000/54000 [==============================] - 3s 57us/sample - loss: 0.0477 - accuracy: 0.9852 - val_loss: 0.0373 - val_accuracy: 0.9913\n",
      "Epoch 9/50\n",
      "54000/54000 [==============================] - 3s 57us/sample - loss: 0.0436 - accuracy: 0.9860 - val_loss: 0.0338 - val_accuracy: 0.9907\n",
      "Epoch 10/50\n",
      "54000/54000 [==============================] - 3s 57us/sample - loss: 0.0424 - accuracy: 0.9867 - val_loss: 0.0334 - val_accuracy: 0.9910\n",
      "Epoch 11/50\n",
      "54000/54000 [==============================] - 3s 57us/sample - loss: 0.0398 - accuracy: 0.9871 - val_loss: 0.0301 - val_accuracy: 0.9915\n",
      "Epoch 12/50\n",
      "54000/54000 [==============================] - 3s 58us/sample - loss: 0.0376 - accuracy: 0.9878 - val_loss: 0.0293 - val_accuracy: 0.9917\n",
      "Epoch 13/50\n",
      "54000/54000 [==============================] - 3s 56us/sample - loss: 0.0371 - accuracy: 0.9877 - val_loss: 0.0317 - val_accuracy: 0.9915\n",
      "Epoch 14/50\n",
      "54000/54000 [==============================] - 3s 56us/sample - loss: 0.0356 - accuracy: 0.9891 - val_loss: 0.0300 - val_accuracy: 0.9907\n",
      "Epoch 15/50\n",
      "54000/54000 [==============================] - 3s 56us/sample - loss: 0.0324 - accuracy: 0.9894 - val_loss: 0.0298 - val_accuracy: 0.9915\n",
      "Epoch 16/50\n",
      "54000/54000 [==============================] - 3s 56us/sample - loss: 0.0326 - accuracy: 0.9888 - val_loss: 0.0306 - val_accuracy: 0.9925\n",
      "Epoch 17/50\n",
      "54000/54000 [==============================] - 3s 56us/sample - loss: 0.0323 - accuracy: 0.9896 - val_loss: 0.0294 - val_accuracy: 0.9922\n",
      "Epoch 18/50\n",
      "54000/54000 [==============================] - 3s 56us/sample - loss: 0.0298 - accuracy: 0.9900 - val_loss: 0.0281 - val_accuracy: 0.9918\n",
      "Epoch 19/50\n",
      "54000/54000 [==============================] - 3s 55us/sample - loss: 0.0302 - accuracy: 0.9901 - val_loss: 0.0278 - val_accuracy: 0.9925\n",
      "Epoch 20/50\n",
      "54000/54000 [==============================] - 3s 57us/sample - loss: 0.0275 - accuracy: 0.9911 - val_loss: 0.0284 - val_accuracy: 0.9923\n",
      "Epoch 21/50\n",
      "54000/54000 [==============================] - 3s 56us/sample - loss: 0.0265 - accuracy: 0.9911 - val_loss: 0.0298 - val_accuracy: 0.9917\n",
      "Epoch 22/50\n",
      "54000/54000 [==============================] - 3s 56us/sample - loss: 0.0262 - accuracy: 0.9916 - val_loss: 0.0284 - val_accuracy: 0.9927\n",
      "Epoch 23/50\n",
      "54000/54000 [==============================] - 3s 57us/sample - loss: 0.0260 - accuracy: 0.9912 - val_loss: 0.0279 - val_accuracy: 0.9925\n",
      "Epoch 24/50\n",
      "54000/54000 [==============================] - 3s 56us/sample - loss: 0.0248 - accuracy: 0.9917 - val_loss: 0.0271 - val_accuracy: 0.9923\n",
      "Epoch 25/50\n",
      "54000/54000 [==============================] - 3s 56us/sample - loss: 0.0240 - accuracy: 0.9921 - val_loss: 0.0261 - val_accuracy: 0.9925\n",
      "Epoch 26/50\n",
      "54000/54000 [==============================] - 3s 56us/sample - loss: 0.0238 - accuracy: 0.9920 - val_loss: 0.0280 - val_accuracy: 0.9923\n",
      "Epoch 27/50\n",
      "54000/54000 [==============================] - 3s 56us/sample - loss: 0.0223 - accuracy: 0.9926 - val_loss: 0.0276 - val_accuracy: 0.9930\n",
      "Epoch 28/50\n",
      "54000/54000 [==============================] - 3s 55us/sample - loss: 0.0224 - accuracy: 0.9921 - val_loss: 0.0270 - val_accuracy: 0.9928\n",
      "Epoch 29/50\n",
      "54000/54000 [==============================] - 3s 56us/sample - loss: 0.0210 - accuracy: 0.9929 - val_loss: 0.0284 - val_accuracy: 0.9922\n",
      "Epoch 30/50\n",
      "54000/54000 [==============================] - 3s 56us/sample - loss: 0.0223 - accuracy: 0.9924 - val_loss: 0.0288 - val_accuracy: 0.9922\n",
      "Epoch 31/50\n",
      "54000/54000 [==============================] - 3s 56us/sample - loss: 0.0200 - accuracy: 0.9932 - val_loss: 0.0274 - val_accuracy: 0.9918\n",
      "Epoch 32/50\n",
      "54000/54000 [==============================] - 3s 55us/sample - loss: 0.0190 - accuracy: 0.9937 - val_loss: 0.0276 - val_accuracy: 0.9932\n",
      "Epoch 33/50\n",
      "54000/54000 [==============================] - 3s 56us/sample - loss: 0.0204 - accuracy: 0.9929 - val_loss: 0.0276 - val_accuracy: 0.9928\n",
      "Epoch 34/50\n",
      "54000/54000 [==============================] - 3s 57us/sample - loss: 0.0211 - accuracy: 0.9929 - val_loss: 0.0269 - val_accuracy: 0.9935\n",
      "Epoch 35/50\n",
      "54000/54000 [==============================] - 3s 56us/sample - loss: 0.0190 - accuracy: 0.9934 - val_loss: 0.0284 - val_accuracy: 0.9933\n",
      "Epoch 36/50\n",
      "54000/54000 [==============================] - 3s 56us/sample - loss: 0.0179 - accuracy: 0.9941 - val_loss: 0.0257 - val_accuracy: 0.9933\n",
      "Epoch 37/50\n",
      "54000/54000 [==============================] - 3s 56us/sample - loss: 0.0184 - accuracy: 0.9939 - val_loss: 0.0274 - val_accuracy: 0.9930\n",
      "Epoch 38/50\n",
      "54000/54000 [==============================] - 3s 56us/sample - loss: 0.0194 - accuracy: 0.9935 - val_loss: 0.0279 - val_accuracy: 0.9935\n",
      "Epoch 39/50\n",
      "54000/54000 [==============================] - 3s 56us/sample - loss: 0.0181 - accuracy: 0.9935 - val_loss: 0.0269 - val_accuracy: 0.9937\n",
      "Epoch 40/50\n",
      "54000/54000 [==============================] - 3s 57us/sample - loss: 0.0170 - accuracy: 0.9941 - val_loss: 0.0297 - val_accuracy: 0.9928\n",
      "Epoch 41/50\n",
      "54000/54000 [==============================] - 3s 56us/sample - loss: 0.0169 - accuracy: 0.9941 - val_loss: 0.0317 - val_accuracy: 0.9928\n",
      "Epoch 42/50\n",
      "54000/54000 [==============================] - 3s 56us/sample - loss: 0.0163 - accuracy: 0.9945 - val_loss: 0.0299 - val_accuracy: 0.9927\n",
      "Epoch 43/50\n",
      "54000/54000 [==============================] - 3s 56us/sample - loss: 0.0168 - accuracy: 0.9942 - val_loss: 0.0262 - val_accuracy: 0.9940\n",
      "Epoch 44/50\n",
      "54000/54000 [==============================] - 3s 56us/sample - loss: 0.0147 - accuracy: 0.9952 - val_loss: 0.0304 - val_accuracy: 0.9932\n",
      "Epoch 45/50\n",
      "54000/54000 [==============================] - 3s 56us/sample - loss: 0.0169 - accuracy: 0.9943 - val_loss: 0.0289 - val_accuracy: 0.9927\n",
      "Epoch 46/50\n",
      "54000/54000 [==============================] - 3s 57us/sample - loss: 0.0157 - accuracy: 0.9947 - val_loss: 0.0286 - val_accuracy: 0.9927\n",
      "Epoch 47/50\n",
      "54000/54000 [==============================] - 3s 56us/sample - loss: 0.0161 - accuracy: 0.9940 - val_loss: 0.0316 - val_accuracy: 0.9920\n",
      "Epoch 48/50\n",
      "54000/54000 [==============================] - 3s 56us/sample - loss: 0.0169 - accuracy: 0.9941 - val_loss: 0.0276 - val_accuracy: 0.9927\n",
      "Epoch 49/50\n",
      "54000/54000 [==============================] - 3s 56us/sample - loss: 0.0142 - accuracy: 0.9951 - val_loss: 0.0297 - val_accuracy: 0.9927\n",
      "Epoch 50/50\n",
      "54000/54000 [==============================] - 3s 56us/sample - loss: 0.0146 - accuracy: 0.9946 - val_loss: 0.0288 - val_accuracy: 0.9927\n"
     ]
    }
   ],
   "source": [
    "batch_size = 128\n",
    "epochs = 50\n",
    "\n",
    "model.compile(loss=\"categorical_crossentropy\", optimizer=\"adam\", metrics=[\"accuracy\"])\n",
    "\n",
    "history = model.fit(x_train, y_train, batch_size=batch_size, epochs=epochs, validation_split=0.1)"
   ]
  },
  {
   "cell_type": "code",
   "execution_count": 6,
   "metadata": {},
   "outputs": [],
   "source": [
    "model.save_weights(\"model-single-mnist.h5\")"
   ]
  },
  {
   "cell_type": "code",
   "execution_count": 7,
   "metadata": {},
   "outputs": [
    {
     "name": "stdout",
     "output_type": "stream",
     "text": [
      "dict_keys(['loss', 'accuracy', 'val_loss', 'val_accuracy'])\n"
     ]
    },
    {
     "data": {
      "image/png": "[encoded data removed]",
      "text/plain": [
       "<Figure size 864x864 with 2 Axes>"
      ]
     },
     "metadata": {
      "needs_background": "light"
     },
     "output_type": "display_data"
    }
   ],
   "source": [
    "import matplotlib.pyplot as plt \n",
    "import numpy as np\n",
    "\n",
    "print(history.history.keys())\n",
    "\n",
    "fig, (ax1, ax2) = plt.subplots(2, 1, figsize=(12, 12))\n",
    "ax1.plot(history.history['loss'], color='b', label=\"Training loss\")\n",
    "ax1.plot(history.history['val_loss'], color='r', label=\"validation loss\")\n",
    "ax1.set_xticks(np.arange(1, epochs, 1))\n",
    "ax1.set_yticks(np.arange(0, 1, 0.1))\n",
    "\n",
    "ax2.plot(history.history['accuracy'], color='b', label=\"Training accuracy\")\n",
    "ax2.plot(history.history['val_accuracy'], color='r',label=\"Validation accuracy\")\n",
    "ax2.set_xticks(np.arange(1, epochs, 1))\n",
    "\n",
    "legend = plt.legend(loc='best', shadow=True)\n",
    "plt.tight_layout()\n",
    "plt.show()"
   ]
  },
  {
   "cell_type": "raw",
   "metadata": {},
   "source": [
    "Ref: https://keras.io/examples/vision/mnist_convnet/"
   ]
  },
  {
   "cell_type": "code",
   "execution_count": null,
   "metadata": {},
   "outputs": [],
   "source": []
  }
 ],
 "metadata": {
  "kernelspec": {
   "display_name": "viplab-gpu",
   "language": "python",
   "name": "viplab-gpu"
  },
  "language_info": {
   "codemirror_mode": {
    "name": "ipython",
    "version": 3
   },
   "file_extension": ".py",
   "mimetype": "text/x-python",
   "name": "python",
   "nbconvert_exporter": "python",
   "pygments_lexer": "ipython3",
   "version": "3.7.7"
  }
 },
 "nbformat": 4,
 "nbformat_minor": 4
}
