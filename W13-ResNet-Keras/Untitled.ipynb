{
 "cells": [
  {
   "cell_type": "code",
   "execution_count": null,
   "metadata": {},
   "outputs": [],
   "source": []
  },
  {
   "cell_type": "code",
   "execution_count": 1,
   "metadata": {},
   "outputs": [],
   "source": [
    "import tensorflow as tf\n",
    "from tensorflow import keras\n",
    "from tensorflow.keras import layers"
   ]
  },
  {
   "cell_type": "code",
   "execution_count": null,
   "metadata": {},
   "outputs": [],
   "source": [
    "def get_compiled_model():\n",
    "    inputs=keras.Input(shape=(784,))\n",
    "    x=keras.layers.Dense(256,activation=\"relu\")(inputs)\n",
    "    x=keras.layers.Dense(256,activation=\"relu\")(x)\n",
    "    outputs=keras.layers.Dense(10)(x)\n",
    "    model=keras.Model(inputs,outputs)\n",
    "    model.compile(\n",
    "         optimizer=keras.optimizers.Adam(),\n",
    "    loss=keras.losses.SparseCategoricalCrossentropy(from_logits=True),\n",
    "    metrics=[keras.metrics.SparseCategoricalAccuracy()],\n",
    "    )\n",
    "    return model\n",
    "def get_dataset():\n",
    "    batch_size =32\n",
    "    num_val_samples =500\n",
    "    (x_train,y_train),(x_test,y_test)= keras.datasets.mnist.load_data()\n",
    "    x_train=x_train.reshape(-1,784).astype(\"float32\")/255\n",
    "    x_test=x_test.reshape(-1,784).astype(\"float32\")/255\n",
    "    y_train=y_train.astype(\"float32\")\n",
    "    y_test=y_test.astype(\"float32\")\n",
    "    x_val=x_train[-num_val_samples:]\n",
    "    y_val=y_train[-num_val_samples:]\n",
    "    x_train=x_train[:-num_val_samples]\n",
    "    y_train=y_train[:-num_val_samples]\n",
    "    return(\n",
    "        tf.data.Dataset.from_tensor_slices((x_train,y_train)).batch(batch_size),\n",
    "        tf.data.Dataset.from_tensor_slices((x_val,y_val)).batch(batch_size),\n",
    "        tf.data.Dataset.from_tensor_slices((x_test,y_test)).batch(batch_size),\n",
    "    )\n",
    "strategy = tf.distribute.MirroredStrategy()\n",
    "print(\"Number of devices: {}\".format(strategy.num_replicas_in_sync))\n",
    "with strategy.scope():\n",
    "    model=get_compiled_model()\n",
    "train_dataset, val_dataset,test_dataset=get_dataset()\n",
    "\n",
    "history=model.fit(train_dataset, epochs=100,validation_data=val_dataset)\n",
    "model.evaluate(test_dataset)"
   ]
  },
  {
   "cell_type": "code",
   "execution_count": null,
   "metadata": {},
   "outputs": [],
   "source": []
  }
 ],
 "metadata": {
  "kernelspec": {
   "display_name": "viplab-gpu",
   "language": "python",
   "name": "viplab-gpu"
  },
  "language_info": {
   "codemirror_mode": {
    "name": "ipython",
    "version": 3
   },
   "file_extension": ".py",
   "mimetype": "text/x-python",
   "name": "python",
   "nbconvert_exporter": "python",
   "pygments_lexer": "ipython3",
   "version": "3.7.7"
  }
 },
 "nbformat": 4,
 "nbformat_minor": 4
}
